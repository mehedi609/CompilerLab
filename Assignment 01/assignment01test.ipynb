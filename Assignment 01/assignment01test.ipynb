{
 "cells": [
  {
   "cell_type": "code",
   "execution_count": 26,
   "metadata": {
    "collapsed": true
   },
   "outputs": [],
   "source": [
    "class Entry:\n",
    "    def __init__(self, hash_key, name, data_type):\n",
    "        self.hash_key = hash_key\n",
    "        self.name = name\n",
    "        self.data_type = data_type\n",
    "\n",
    "\n",
    "symbol_table = []\n",
    "\n"
   ]
  },
  {
   "cell_type": "code",
   "execution_count": 27,
   "metadata": {},
   "outputs": [],
   "source": [
    "def is_empty():\n",
    "    if len(symbol_table) > 0:\n",
    "        return False\n",
    "    return True\n",
    "\n",
    "\n",
    "def is_comma_separated(my_string):\n",
    "    for chacter in my_string:\n",
    "        if chacter == ',':\n",
    "            return True\n",
    "    return False\n",
    "\n",
    "\n",
    "def is_match_found(name):\n",
    "    index = -1\n",
    "    if len(symbol_table) > 0:\n",
    "        for index, element in enumerate(symbol_table):\n",
    "            if name == element.name:\n",
    "                return True, index\n",
    "        return False, index\n",
    "    return False, index\n",
    "\n",
    "\n",
    "def get_hash_key(name):\n",
    "    ascii_value = 0\n",
    "    for character in name:\n",
    "        ascii_value += ord(character)\n",
    "    return ascii_value % 53"
   ]
  },
  {
   "cell_type": "code",
   "execution_count": 28,
   "metadata": {},
   "outputs": [],
   "source": [
    "def insert(user_input):\n",
    "    if is_comma_separated(user_input):\n",
    "        user_input = user_input.split(',')\n",
    "        name = user_input[0].strip()\n",
    "        data_type = user_input[1].strip()\n",
    "        hash_key = get_hash_key(name)\n",
    "        \n",
    "        if is_empty():\n",
    "            symbol_table.append(Entry(hash_key, name, data_type))\n",
    "            return \"Insert Successful\"\n",
    "        \n",
    "        bol, index = is_match_found(name)\n",
    "        # print(bol, index)\n",
    "        if not bol:\n",
    "            symbol_table.append(Entry(hash_key, name, data_type))\n",
    "            return \"Insert Successful\"\n",
    "        return \"Sorry! Name alredy exits.\"\n",
    "\n",
    "    return \"Sorry! You didn't enter comma separated value.\""
   ]
  },
  {
   "cell_type": "code",
   "execution_count": 43,
   "metadata": {},
   "outputs": [],
   "source": [
    "def show():\n",
    "    if is_empty():\n",
    "        print('Symble table is empty! Insert data.')\n",
    "    else:\n",
    "        for entry in symbol_table:\n",
    "            print(f\"Name: {entry.name}  --&&--  Type: {entry.data_type}\")"
   ]
  },
  {
   "cell_type": "code",
   "execution_count": 61,
   "metadata": {},
   "outputs": [],
   "source": [
    "def search(my_input):\n",
    "    if is_empty():\n",
    "        return 'Symble table is empty! Insert data.'\n",
    "\n",
    "    bol, index = is_match_found(my_input)\n",
    "\n",
    "    if bol:\n",
    "        return f'Match found. Hash key is => {symbol_table[index].hash_key} and Data Type is => {symbol_table[index].data_type}'\n",
    "\n",
    "    return 'Sorry, No Match!! Name not Found'"
   ]
  },
  {
   "cell_type": "code",
   "execution_count": 65,
   "metadata": {},
   "outputs": [],
   "source": [
    "def update(my_input):\n",
    "    if is_empty():\n",
    "        return 'Symble table is empty! Insert data.'\n",
    "\n",
    "    bol, index = is_match_found(my_input)\n",
    "\n",
    "    if bol:\n",
    "        data_type = 'Integer'\n",
    "        if symbol_table[index].data_type == data_type:\n",
    "            return 'Sorry you enter same data type. Nothing to change'\n",
    "\n",
    "        symbol_table[index].data_type = data_type\n",
    "        return 'Update successful'\n",
    "\n",
    "    return 'Name not found!!'"
   ]
  },
  {
   "cell_type": "code",
   "execution_count": 70,
   "metadata": {},
   "outputs": [],
   "source": [
    "def delete(my_input):\n",
    "    if is_empty():\n",
    "        return 'Symble table is empty! Insert data.'\n",
    "\n",
    "    bol, index = is_match_found(my_input)\n",
    "    if bol:\n",
    "        del symbol_table[index]\n",
    "        return 'Delete successful'\n",
    "\n",
    "    return 'Name not found!!'"
   ]
  },
  {
   "cell_type": "code",
   "execution_count": 45,
   "metadata": {},
   "outputs": [
    {
     "name": "stdout",
     "output_type": "stream",
     "text": [
      "False 1\nInsert Successful\n"
     ]
    }
   ],
   "source": [
    "user_input = 'myFunction, Function'\n",
    "print(insert(user_input))"
   ]
  },
  {
   "cell_type": "code",
   "execution_count": 72,
   "metadata": {},
   "outputs": [
    {
     "name": "stdout",
     "output_type": "stream",
     "text": [
      "Name: Mehedi  --&&--  Type: String\nName: myFunction  --&&--  Type: Function\n"
     ]
    }
   ],
   "source": [
    "show()"
   ]
  },
  {
   "cell_type": "code",
   "execution_count": 62,
   "metadata": {},
   "outputs": [
    {
     "name": "stdout",
     "output_type": "stream",
     "text": [
      "Match found. Hash key is => 8 and Data Type is => Function\n"
     ]
    }
   ],
   "source": [
    "print(search('myFunction'))"
   ]
  },
  {
   "cell_type": "code",
   "execution_count": 68,
   "metadata": {},
   "outputs": [
    {
     "name": "stdout",
     "output_type": "stream",
     "text": [
      "Sorry you enter same data type. Nothing to change\n"
     ]
    }
   ],
   "source": [
    "print(update('x'))"
   ]
  },
  {
   "cell_type": "code",
   "execution_count": 73,
   "metadata": {},
   "outputs": [
    {
     "name": "stdout",
     "output_type": "stream",
     "text": [
      "Name not found!!\n"
     ]
    }
   ],
   "source": [
    "print(delete('xasd'))"
   ]
  },
  {
   "cell_type": "code",
   "execution_count": null,
   "metadata": {},
   "outputs": [],
   "source": []
  }
 ],
 "metadata": {
  "kernelspec": {
   "display_name": "Python 2",
   "language": "python",
   "name": "python2"
  },
  "language_info": {
   "codemirror_mode": {
    "name": "ipython",
    "version": 2
   },
   "file_extension": ".py",
   "mimetype": "text/x-python",
   "name": "python",
   "nbconvert_exporter": "python",
   "pygments_lexer": "ipython2",
   "version": "2.7.6"
  }
 },
 "nbformat": 4,
 "nbformat_minor": 0
}
