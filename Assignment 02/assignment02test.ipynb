{
 "cells": [
  {
   "cell_type": "code",
   "execution_count": 35,
   "metadata": {
    "collapsed": true
   },
   "outputs": [],
   "source": [
    "def integer_regex(reg_exp):\n",
    "    if reg_exp[0] == '0':\n",
    "        return f\"{reg_exp}  -->  Not  Valid\"\n",
    "    if not reg_exp.isnumeric():\n",
    "        return f\"{reg_exp}  -->  Not  Valid\"\n",
    "    return f\"{reg_exp}  -->  Valid\""
   ]
  },
  {
   "cell_type": "code",
   "execution_count": 55,
   "metadata": {},
   "outputs": [
    {
     "name": "stdout",
     "output_type": "stream",
     "text": [
      "11 24  -->  Not  Valid\n\n"
     ]
    }
   ],
   "source": [
    "user_input = '11 24'\n",
    "if len(user_input):\n",
    "    if user_input[0] in ['+', '-']:\n",
    "        print(user_input[0]+integer_regex(user_input[1:]))\n",
    "        print('')\n",
    "    else:\n",
    "        print(integer_regex(user_input))\n",
    "        print('')\n",
    "else:\n",
    "    print('You did not enter anything')\n",
    "    print('')"
   ]
  },
  {
   "cell_type": "code",
   "execution_count": 2,
   "metadata": {},
   "outputs": [
    {
     "name": "stdout",
     "output_type": "stream",
     "text": [
      "True\n"
     ]
    }
   ],
   "source": [
    "index = 0\n",
    "print(index is 0)"
   ]
  },
  {
   "cell_type": "code",
   "execution_count": 7,
   "metadata": {},
   "outputs": [
    {
     "name": "stdout",
     "output_type": "stream",
     "text": [
      "102n\n+102\n"
     ]
    }
   ],
   "source": [
    "my_str = '+102'\n",
    "new_str = my_str[1:]\n",
    "print(new_str + 'n')\n",
    "print(my_str)"
   ]
  },
  {
   "cell_type": "code",
   "execution_count": 15,
   "metadata": {},
   "outputs": [
    {
     "data": {
      "text/plain": [
       "False"
      ]
     },
     "execution_count": 15,
     "metadata": {},
     "output_type": "execute_result"
    }
   ],
   "source": [
    "'22a'.isdecimal()"
   ]
  },
  {
   "cell_type": "code",
   "execution_count": 22,
   "metadata": {},
   "outputs": [
    {
     "data": {
      "text/plain": [
       "False"
      ]
     },
     "execution_count": 22,
     "metadata": {},
     "output_type": "execute_result"
    }
   ],
   "source": [
    "'.'.isdigit()"
   ]
  },
  {
   "cell_type": "code",
   "execution_count": 44,
   "metadata": {},
   "outputs": [
    {
     "data": {
      "text/plain": [
       "False"
      ]
     },
     "execution_count": 44,
     "metadata": {},
     "output_type": "execute_result"
    }
   ],
   "source": [
    "'a.b'.isalpha()"
   ]
  },
  {
   "cell_type": "code",
   "execution_count": 1,
   "metadata": {},
   "outputs": [
    {
     "data": {
      "text/plain": [
       "True"
      ]
     },
     "execution_count": 1,
     "metadata": {},
     "output_type": "execute_result"
    }
   ],
   "source": [
    "'25'.isnumeric()"
   ]
  },
  {
   "cell_type": "code",
   "execution_count": 3,
   "metadata": {},
   "outputs": [
    {
     "data": {
      "text/plain": [
       "True"
      ]
     },
     "execution_count": 3,
     "metadata": {},
     "output_type": "execute_result"
    }
   ],
   "source": [
    "' '.isspace()"
   ]
  },
  {
   "cell_type": "code",
   "execution_count": 15,
   "metadata": {},
   "outputs": [],
   "source": [
    "import string\n",
    "\n",
    "\n",
    "def has_any_special_character(word):\n",
    "    invalid_chars = set(string.punctuation.replace(\"_\", \"\"))\n",
    "    if any(char in invalid_chars for char in word):\n",
    "        return True\n",
    "    return False"
   ]
  },
  {
   "cell_type": "code",
   "execution_count": 19,
   "metadata": {},
   "outputs": [
    {
     "data": {
      "text/plain": [
       "False"
      ]
     },
     "execution_count": 19,
     "metadata": {},
     "output_type": "execute_result"
    }
   ],
   "source": [
    "has_any_special_character('ab')"
   ]
  },
  {
   "cell_type": "code",
   "execution_count": 30,
   "metadata": {},
   "outputs": [],
   "source": [
    "def variable_regex(reg_exp):\n",
    "    if reg_exp[0].isnumeric():\n",
    "        return f\"{reg_exp}  -->  Not  Valid\"\n",
    "    elif has_any_special_character(reg_exp):\n",
    "        return f\"{reg_exp}  -->  Not  Valid\"\n",
    "    elif ' ' in reg_exp:\n",
    "        return f\"{reg_exp}  -->  Not  Valid\"\n",
    "    return f\"{reg_exp}  -->  Valid\""
   ]
  },
  {
   "cell_type": "code",
   "execution_count": 31,
   "metadata": {},
   "outputs": [
    {
     "name": "stdout",
     "output_type": "stream",
     "text": [
      "ad   2  -->  Not  Valid\n"
     ]
    }
   ],
   "source": [
    "print(variable_regex('ad   2'))"
   ]
  },
  {
   "cell_type": "code",
   "execution_count": 34,
   "metadata": {},
   "outputs": [
    {
     "data": {
      "text/plain": [
       "False"
      ]
     },
     "execution_count": 34,
     "metadata": {},
     "output_type": "execute_result"
    }
   ],
   "source": [
    "'10.4'.isdecimal()"
   ]
  },
  {
   "cell_type": "code",
   "execution_count": 46,
   "metadata": {},
   "outputs": [
    {
     "data": {
      "text/plain": [
       "True"
      ]
     },
     "execution_count": 46,
     "metadata": {},
     "output_type": "execute_result"
    }
   ],
   "source": [
    "word = 'a.b'\n",
    "any(cha.isalpha() for cha in word)"
   ]
  },
  {
   "cell_type": "code",
   "execution_count": 56,
   "metadata": {},
   "outputs": [],
   "source": [
    "# Regular Expression for Float\n",
    "def float_regex(reg_exp):\n",
    "    if any(cha.isalpha() for cha in reg_exp):\n",
    "        return f\"{reg_exp}  -->  Not  Valid\"\n",
    "    elif '.' not in reg_exp:\n",
    "        return f\"{reg_exp}  -->  Not  Valid\"\n",
    "    elif not len(reg_exp.split('.')[1]):\n",
    "        return f\"{reg_exp}  -->  Not  Valid\"\n",
    "    elif ' ' in reg_exp:\n",
    "        return f\"{reg_exp}  -->  Not  Valid\"\n",
    "    return f\"{reg_exp}  -->  Valid\""
   ]
  },
  {
   "cell_type": "code",
   "execution_count": 58,
   "metadata": {},
   "outputs": [
    {
     "name": "stdout",
     "output_type": "stream",
     "text": [
      " .2  -->  Not  Valid\n"
     ]
    }
   ],
   "source": [
    "print(float_regex(' .2'))"
   ]
  },
  {
   "cell_type": "code",
   "execution_count": 60,
   "metadata": {},
   "outputs": [
    {
     "name": "stdout",
     "output_type": "stream",
     "text": [
      "a\n\nb\n"
     ]
    }
   ],
   "source": [
    "print('a', end='\\n\\n')\n",
    "print('b')"
   ]
  },
  {
   "cell_type": "code",
   "execution_count": 62,
   "metadata": {},
   "outputs": [
    {
     "name": "stdout",
     "output_type": "stream",
     "text": [
      "False\n"
     ]
    }
   ],
   "source": [
    "print(not len('as') > 0)"
   ]
  },
  {
   "cell_type": "code",
   "execution_count": null,
   "metadata": {},
   "outputs": [],
   "source": []
  }
 ],
 "metadata": {
  "kernelspec": {
   "display_name": "Python 2",
   "language": "python",
   "name": "python2"
  },
  "language_info": {
   "codemirror_mode": {
    "name": "ipython",
    "version": 2
   },
   "file_extension": ".py",
   "mimetype": "text/x-python",
   "name": "python",
   "nbconvert_exporter": "python",
   "pygments_lexer": "ipython2",
   "version": "2.7.6"
  }
 },
 "nbformat": 4,
 "nbformat_minor": 0
}
